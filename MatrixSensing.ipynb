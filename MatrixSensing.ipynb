{
 "cells": [
  {
   "cell_type": "code",
   "execution_count": 3,
   "metadata": {},
   "outputs": [],
   "source": [
    "import cvxpy as cp\n",
    "import matplotlib.pyplot as plt\n",
    "import numpy as np"
   ]
  },
  {
   "cell_type": "code",
   "execution_count": 13,
   "metadata": {},
   "outputs": [],
   "source": [
    "\n",
    "#minimizes Tr C X subject to Tr A_i X = b_i for A_i symmetric, b_i real.\n",
    "#A is a list of array of symmetric matrices A[i], b[i] a list of real numbers.\n",
    "\n",
    "def SimpleSdp(A, b, C):\n",
    "    \n",
    "    n = np.shape(C)[0]\n",
    "    \n",
    "    X = cp.Variable((n,n), symmetric=True)\n",
    "    constraints = [X >> 0]\n",
    "    for i in range(len(A)):\n",
    "        constraints += [cp.trace(A[i] @ X) == b[i]]\n",
    "\n",
    "    prob = cp.Problem(cp.Minimize(cp.trace(C @ X)),\n",
    "                  constraints)\n",
    "\n",
    "    prob.solve()\n",
    "    \n",
    "    return prob.value"
   ]
  },
  {
   "cell_type": "code",
   "execution_count": 16,
   "metadata": {},
   "outputs": [
    {
     "data": {
      "text/plain": [
       "3.1250000081217664"
      ]
     },
     "execution_count": 16,
     "metadata": {},
     "output_type": "execute_result"
    }
   ],
   "source": [
    "As = np.array([[[1.0,0.0,0.0],\n",
    "                [0.0,0.0,0.0],\n",
    "                [0.0,0.0,0.0]],\n",
    "               [[0.0,0.0,0.0],\n",
    "                [0.0,1.0,0.0],\n",
    "                [0.0,0.0,0.0]],\n",
    "               [[0.0,0.0,0.0],\n",
    "                [0.0,0.0,1.0],\n",
    "                [0.0,1.0,0.0]]])\n",
    "ys = np.array([1.0, 2.0, -1.0])\n",
    "\n",
    "SimpleSdp(As,ys,np.eye(3))"
   ]
  },
  {
   "cell_type": "code",
   "execution_count": 12,
   "metadata": {},
   "outputs": [
    {
     "data": {
      "text/plain": [
       "1.0000000000000007"
      ]
     },
     "execution_count": 12,
     "metadata": {},
     "output_type": "execute_result"
    }
   ],
   "source": [
    "#another test. answer should be 1. \n",
    "As = np.array([np.eye(3)])\n",
    "ys = [1]\n",
    "SimpleSdp(As,ys,np.eye(3))"
   ]
  },
  {
   "cell_type": "code",
   "execution_count": 19,
   "metadata": {},
   "outputs": [],
   "source": [
    "def ExactMinNuclearNorm(As,ys):\n",
    "    n = np.shape(As[0])[0]\n",
    "    return SimpleSdp(As,ys,np.eye(n))"
   ]
  },
  {
   "cell_type": "code",
   "execution_count": 20,
   "metadata": {},
   "outputs": [
    {
     "data": {
      "text/plain": [
       "3.1250000081217664"
      ]
     },
     "execution_count": 20,
     "metadata": {},
     "output_type": "execute_result"
    }
   ],
   "source": [
    "ExactMinNuclearNorm(As,ys)"
   ]
  },
  {
   "cell_type": "code",
   "execution_count": null,
   "metadata": {},
   "outputs": [],
   "source": []
  }
 ],
 "metadata": {
  "kernelspec": {
   "display_name": "Python 3",
   "language": "python",
   "name": "python3"
  },
  "language_info": {
   "codemirror_mode": {
    "name": "ipython",
    "version": 3
   },
   "file_extension": ".py",
   "mimetype": "text/x-python",
   "name": "python",
   "nbconvert_exporter": "python",
   "pygments_lexer": "ipython3",
   "version": "3.8.6"
  }
 },
 "nbformat": 4,
 "nbformat_minor": 4
}
