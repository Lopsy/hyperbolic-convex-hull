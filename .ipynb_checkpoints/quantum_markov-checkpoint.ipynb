{
 "cells": [
  {
   "cell_type": "code",
   "execution_count": 70,
   "id": "refined-livestock",
   "metadata": {},
   "outputs": [],
   "source": [
    "import numpy as np\n",
    "import scipy.linalg\n",
    "import matplotlib.pyplot as plt"
   ]
  },
  {
   "cell_type": "code",
   "execution_count": 67,
   "id": "academic-drilling",
   "metadata": {},
   "outputs": [],
   "source": [
    "#partial trace code\n",
    "#let's make it take in a tensor on three indices.\n",
    "#marg can be a subset.\n",
    "def partial_trace2(rho):\n",
    "    sh = np.shape(rho)\n",
    "    Tr = sum(sum(rho[i,:,j,i,:,j] for i in range(sh[0])) for j in range(sh[-1]))\n",
    "    return Tr.reshape([sh[1],sh[1]])\n",
    "\n",
    "def partial_trace12(rho):\n",
    "    sh = np.shape(rho)\n",
    "    Tr = sum(rho[:,:,i,:,:,i] for i in range(sh[-1]))\n",
    "    return Tr.reshape([sh[0]*sh[1],sh[0]*sh[1]])\n",
    "\n",
    "def partial_trace23(rho):\n",
    "    sh = np.shape(rho)\n",
    "    Tr = sum(rho[i,:,:,i,:,:] for i in range(sh[0]))\n",
    "    return Tr.reshape([sh[1]*sh[-1],sh[1]*sh[-1]])\n",
    "\n",
    "def dens(rho):\n",
    "    sh = np.shape(rho)\n",
    "    return rho.reshape([sh[0]*sh[1]*sh[2],sh[0]*sh[1]*sh[2]])\n",
    "\n",
    "def quantum_entropy(rho):\n",
    "    return - np.trace(scipy.linalg.logm(rho)@ rho)\n",
    "\n",
    "def qCMI(rho):\n",
    "    return quantum_entropy(partial_trace12(rho)) + quantum_entropy(partial_trace23(rho)) - quantum_entropy(partial_trace2(rho)) - quantum_entropy(dens(rho))\n",
    "    \n",
    "def gibbs(B):\n",
    "    pauli_x = np.array([[0,-1j],[1j,0]])\n",
    "    pauli_y = np.array([[0,1],[1,0]])\n",
    "    eye = np.eye(2)\n",
    "    H = np.kron(np.kron(pauli_x,pauli_x),eye) + np.kron(np.kron(pauli_y,pauli_y),eye) + np.kron(eye,np.kron(pauli_x,pauli_x)) + np.kron(eye,np.kron(pauli_y,pauli_y))\n",
    "    gibbs = scipy.linalg.expm(-B*H)/np.trace(scipy.linalg.expm(-B*H))\n",
    "    return gibbs\n",
    "\n",
    "def gibbs_qCMI(B):\n",
    "    return np.real(qCMI(gibbs(B).reshape([2,2,2,2,2,2])))\n",
    "\n",
    "def gibbs_xyz(B):\n",
    "    #todo: add z, reproduce leifer's example.\n",
    "    pauli_x = np.array([[0,-1j],[1j,0]])\n",
    "    pauli_y = np.array([[0,1],[1,0]])\n",
    "    eye = np.eye(2)\n",
    "    H = np.kron(np.kron(pauli_x,pauli_x),eye) + np.kron(np.kron(pauli_y,pauli_y),eye) + np.kron(eye,np.kron(pauli_x,pauli_x)) + np.kron(eye,np.kron(pauli_y,pauli_y))\n",
    "    gibbs = scipy.linalg.expm(-B*H)/np.trace(scipy.linalg.expm(-B*H))\n",
    "    return gibbs\n",
    "    "
   ]
  },
  {
   "cell_type": "code",
   "execution_count": 45,
   "id": "random-aggregate",
   "metadata": {},
   "outputs": [
    {
     "data": {
      "text/plain": [
       "20.954967181319006"
      ]
     },
     "execution_count": 45,
     "metadata": {},
     "output_type": "execute_result"
    }
   ],
   "source": [
    "#test partial trace\n",
    "rho = np.random.randn(8,8)\n",
    "rho = rho.T @ rho\n",
    "rho = rho.reshape([2,2,2,2,2,2])\n",
    "qCMI(rho)"
   ]
  },
  {
   "cell_type": "code",
   "execution_count": 35,
   "id": "functioning-ownership",
   "metadata": {},
   "outputs": [
    {
     "data": {
      "text/plain": [
       "array([[1.03972077, 0.34657359],\n",
       "       [0.34657359, 1.03972077]])"
      ]
     },
     "execution_count": 35,
     "metadata": {},
     "output_type": "execute_result"
    }
   ],
   "source": [
    "#now for the entropies.\n",
    "scipy.linalg.logm(np.array([[3,1],[1,3]]))"
   ]
  },
  {
   "cell_type": "code",
   "execution_count": 55,
   "id": "twenty-shooting",
   "metadata": {},
   "outputs": [],
   "source": [
    "#now to construct the hamtonian rho I want. \n",
    "pauli_x = np.array([[0,-1j],[1j,0]])\n",
    "pauli_y = np.array([[0,1],[1,0]])\n",
    "eye = np.eye(2)\n",
    "H = np.kron(np.kron(pauli_x,pauli_x),eye) + np.kron(np.kron(pauli_y,pauli_y),eye) + np.kron(eye,np.kron(pauli_x,pauli_x)) + np.kron(eye,np.kron(pauli_y,pauli_y)) "
   ]
  },
  {
   "cell_type": "code",
   "execution_count": 65,
   "id": "victorian-height",
   "metadata": {},
   "outputs": [
    {
     "data": {
      "text/plain": [
       "(array([-4.02962356e-17, -4.02962356e-17,  2.60175907e-13,  2.60175907e-13,\n",
       "         2.60193306e-13,  2.60193306e-13,  5.00000000e-01,  5.00000000e-01]),\n",
       " array([[ 0.00000000e+00+0.j,  0.00000000e+00+0.j,  1.00000000e+00+0.j,\n",
       "          0.00000000e+00+0.j,  0.00000000e+00+0.j, -0.00000000e+00+0.j,\n",
       "          0.00000000e+00+0.j,  0.00000000e+00+0.j],\n",
       "        [ 5.00092031e-01+0.j,  0.00000000e+00+0.j,  0.00000000e+00+0.j,\n",
       "          0.00000000e+00+0.j,  0.00000000e+00+0.j,  7.07041696e-01-0.j,\n",
       "          5.00000000e-01+0.j,  0.00000000e+00+0.j],\n",
       "        [ 7.07106775e-01+0.j,  0.00000000e+00+0.j,  0.00000000e+00+0.j,\n",
       "          0.00000000e+00+0.j,  0.00000000e+00+0.j, -9.20355574e-05+0.j,\n",
       "         -7.07106781e-01+0.j,  0.00000000e+00+0.j],\n",
       "        [ 0.00000000e+00+0.j,  5.00092031e-01+0.j,  0.00000000e+00+0.j,\n",
       "          0.00000000e+00+0.j, -7.07041696e-01+0.j,  0.00000000e+00+0.j,\n",
       "          0.00000000e+00+0.j, -5.00000000e-01+0.j],\n",
       "        [ 4.99907960e-01+0.j,  0.00000000e+00+0.j,  0.00000000e+00+0.j,\n",
       "          0.00000000e+00+0.j,  0.00000000e+00+0.j, -7.07171854e-01+0.j,\n",
       "          5.00000000e-01+0.j,  0.00000000e+00+0.j],\n",
       "        [ 0.00000000e+00+0.j,  7.07106775e-01+0.j,  0.00000000e+00+0.j,\n",
       "          0.00000000e+00+0.j,  9.20355574e-05+0.j, -0.00000000e+00+0.j,\n",
       "          0.00000000e+00+0.j,  7.07106781e-01+0.j],\n",
       "        [ 0.00000000e+00+0.j,  4.99907960e-01+0.j,  0.00000000e+00+0.j,\n",
       "          0.00000000e+00+0.j,  7.07171854e-01+0.j,  0.00000000e+00+0.j,\n",
       "          0.00000000e+00+0.j, -5.00000000e-01+0.j],\n",
       "        [ 0.00000000e+00+0.j,  0.00000000e+00+0.j,  0.00000000e+00+0.j,\n",
       "          1.00000000e+00+0.j,  0.00000000e+00+0.j, -0.00000000e+00+0.j,\n",
       "          0.00000000e+00+0.j,  0.00000000e+00+0.j]]))"
      ]
     },
     "execution_count": 65,
     "metadata": {},
     "output_type": "execute_result"
    }
   ],
   "source": [
    "np.linalg.eigh(gibbs(10))"
   ]
  },
  {
   "cell_type": "code",
   "execution_count": 79,
   "id": "killing-samuel",
   "metadata": {},
   "outputs": [
    {
     "data": {
      "text/plain": [
       "[<matplotlib.lines.Line2D at 0x7fe9f3567550>]"
      ]
     },
     "execution_count": 79,
     "metadata": {},
     "output_type": "execute_result"
    },
    {
     "data": {
      "image/png": "[encoded data removed]",
      "text/plain": [
       "<Figure size 432x288 with 1 Axes>"
      ]
     },
     "metadata": {
      "needs_background": "light"
     },
     "output_type": "display_data"
    }
   ],
   "source": [
    "y = list(gibbs_qCMI(.1*t) for t in range(100))\n",
    "plt.plot(y)"
   ]
  },
  {
   "cell_type": "code",
   "execution_count": 78,
   "id": "choice-genealogy",
   "metadata": {},
   "outputs": [
    {
     "data": {
      "text/plain": [
       "3.284940019110394e-05"
      ]
     },
     "execution_count": 78,
     "metadata": {},
     "output_type": "execute_result"
    }
   ],
   "source": [
    "gibbs_qCMI(0.1)"
   ]
  },
  {
   "cell_type": "code",
   "execution_count": null,
   "id": "alien-external",
   "metadata": {},
   "outputs": [],
   "source": []
  }
 ],
 "metadata": {
  "kernelspec": {
   "display_name": "Python 3",
   "language": "python",
   "name": "python3"
  },
  "language_info": {
   "codemirror_mode": {
    "name": "ipython",
    "version": 3
   },
   "file_extension": ".py",
   "mimetype": "text/x-python",
   "name": "python",
   "nbconvert_exporter": "python",
   "pygments_lexer": "ipython3",
   "version": "3.8.5"
  }
 },
 "nbformat": 4,
 "nbformat_minor": 5
}
